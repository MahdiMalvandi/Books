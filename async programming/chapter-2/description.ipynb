{
 "cells": [
  {
   "cell_type": "markdown",
   "source": [
    "# Create Task\n",
    "first we need to create a task from coroutines then run tasks with asyncio.run\n"
   ],
   "metadata": {
    "collapsed": false
   }
  },
  {
   "cell_type": "code",
   "execution_count": null,
   "metadata": {
    "collapsed": true
   },
   "outputs": [],
   "source": [
    "import asyncio\n",
    "\n",
    "async def delay(delay_seconds: int, task_number: int) -> int:\n",
    " print(f'sleeping for {delay_seconds} second(s)- {task_number}')\n",
    " await asyncio.sleep(delay_seconds)\n",
    " print(f'finished sleeping for {delay_seconds} second(s)- {task_number}')\n",
    " return delay_seconds\n",
    "\n",
    "async def main():\n",
    " task_1 = asyncio.create_task(delay(3,1))\n",
    " task_2 = asyncio.create_task(delay(3,2))\n",
    " task_3 = asyncio.create_task(delay(3,3))\n",
    " await task_1\n",
    " await task_2\n",
    " await task_3\n",
    "\n",
    "asyncio.run(main())\n",
    "\n"
   ]
  },
  {
   "cell_type": "markdown",
   "source": [
    "# Image\n",
    "<img src=\"PdfImage.png\" height=\"500\">\n"
   ],
   "metadata": {
    "collapsed": false
   }
  },
  {
   "cell_type": "markdown",
   "source": [
    "# Cancelling a task\n",
    "Each task object has a method named cancel,\n",
    "which we can call whenever we’d like to stop a task. Canceling a task will cause that\n",
    "task to raise a CancelledError when we await it, which we can then handle as\n",
    "needed."
   ],
   "metadata": {
    "collapsed": false
   }
  },
  {
   "cell_type": "code",
   "execution_count": null,
   "outputs": [],
   "source": [
    "import asyncio\n",
    "\n",
    "import asyncio\n",
    "from asyncio import CancelledError\n",
    "\n",
    "async def delay(delay_seconds: int, task_number: int=0) -> int:\n",
    "   print(f'sleeping for {delay_seconds} second(s)- {task_number}')\n",
    "   await asyncio.sleep(delay_seconds)\n",
    "   print(f'finished sleeping for {delay_seconds} second(s)- {task_number}')\n",
    "   return delay_seconds\n",
    "\n",
    "async def main():\n",
    "   long_task = asyncio.create_task(delay(10))\n",
    "   seconds_elapsed = 0\n",
    "   while not long_task.done():\n",
    "      print('Task not finished, checking again in a second.')\n",
    "      await asyncio.sleep(1)\n",
    "      seconds_elapsed = seconds_elapsed + 1\n",
    "      if seconds_elapsed == 5:\n",
    "       long_task.cancel()\n",
    "   try:\n",
    "      await long_task\n",
    "   except CancelledError:\n",
    "      print('Our task was cancelled')\n",
    "asyncio.run(main())\n",
    "\n",
    "\n"
   ],
   "metadata": {
    "collapsed": false
   }
  },
  {
   "cell_type": "markdown",
   "source": [
    "# Setting a timeout and canceling with wait_for\n",
    "Checking every second or at some other time interval, and then canceling a task, as we\n",
    "did in the previous example, isn’t the easiest way to handle a timeout. Ideally, we’d\n",
    "have a helper function that would allow us to specify this timeout and handle cancella￾tion for us.\n",
    " asyncio provides this functionality through a function called asyncio.wait_for.\n",
    "This function takes in a coroutine or task object, and a timeout specified in seconds. It\n",
    "then returns a coroutine that we can await. If the task takes more time to complete\n",
    "than the timeout we gave it, a TimeoutException will be raised. O"
   ],
   "metadata": {
    "collapsed": false
   }
  },
  {
   "cell_type": "code",
   "execution_count": null,
   "outputs": [],
   "source": [
    "import asyncio\n",
    "async def main():\n",
    "    delay_task = asyncio.create_task(delay(2))\n",
    "    try:\n",
    "        result = await asyncio.wait_for(delay_task, timeout=1)\n",
    "        print(result)\n",
    "    except asyncio.exceptions.TimeoutError:\n",
    "        print('Got a timeout!')\n",
    "        print(f'Was the task cancelled? {delay_task.cancelled()}')\n",
    "asyncio.run(main())"
   ],
   "metadata": {
    "collapsed": false
   }
  },
  {
   "cell_type": "markdown",
   "source": [
    "Canceling tasks automatically if they take longer than expected is normally a good\n",
    "idea. Otherwise, we may have a coroutine waiting indefinitely, taking up resources\n",
    "that may never be released. However, in certain circumstances we may want to keep\n",
    "our coroutine running. For example, we may want to inform a user that something is\n",
    "taking longer than expected after a certain amount of time but not cancel the task\n",
    "when the timeout is exceeded.\n",
    " To do this we can wrap our task with the asyncio.shield function. This function\n",
    "will prevent cancellation of the coroutine we pass in, giving it a “shield,” which cancel￾lation requests then ignore."
   ],
   "metadata": {
    "collapsed": false
   }
  },
  {
   "cell_type": "code",
   "execution_count": null,
   "outputs": [],
   "source": [
    "async def main():\n",
    "    task = asyncio.create_task(delay(15))\n",
    "    try:\n",
    "        result = await asyncio.wait_for(asyncio.shield(task), 5)\n",
    "        print(result)\n",
    "    except TimeoutError:\n",
    "        print(\"Task took longer than five seconds, it will finish soon!\")\n",
    "        result = await task\n",
    "        print(result)"
   ],
   "metadata": {
    "collapsed": false
   }
  },
  {
   "cell_type": "markdown",
   "source": [],
   "metadata": {
    "collapsed": false
   }
  }
 ],
 "metadata": {
  "kernelspec": {
   "display_name": "Python 3",
   "language": "python",
   "name": "python3"
  },
  "language_info": {
   "codemirror_mode": {
    "name": "ipython",
    "version": 2
   },
   "file_extension": ".py",
   "mimetype": "text/x-python",
   "name": "python",
   "nbconvert_exporter": "python",
   "pygments_lexer": "ipython2",
   "version": "2.7.6"
  }
 },
 "nbformat": 4,
 "nbformat_minor": 0
}
