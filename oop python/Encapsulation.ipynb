{
 "cells": [
  {
   "cell_type": "markdown",
   "source": [
    "# Encapsulation\n",
    "if you want to make private variables and validating data before setting you can use Encapsulation"
   ],
   "metadata": {
    "collapsed": false
   }
  },
  {
   "cell_type": "markdown",
   "source": [
    "### First Solution : Using get and set\n",
    "you can use get and set methods for your attributes"
   ],
   "metadata": {
    "collapsed": false
   }
  },
  {
   "cell_type": "code",
   "execution_count": 54,
   "metadata": {
    "collapsed": true,
    "ExecuteTime": {
     "end_time": "2024-07-27T13:12:01.147234100Z",
     "start_time": "2024-07-27T13:12:01.105294500Z"
    }
   },
   "outputs": [
    {
     "name": "stdout",
     "output_type": "stream",
     "text": [
      "mahdi\n",
      "mahdi\n"
     ]
    }
   ],
   "source": [
    "class User:\n",
    "    def __init__(self, username: str, password: str):\n",
    "        self._username = username # making private variables\n",
    "        self._password = password\n",
    "\n",
    "    def getUsername(self): # for getting the username\n",
    "        return self._username\n",
    "\n",
    "    def setUsername(self, username):\n",
    "        # validate new username\n",
    "        self._username = username\n",
    "\n",
    "    def getPassword(self):\n",
    "        return self._username\n",
    "\n",
    "    def setPassword(self, password):\n",
    "        # validate new password\n",
    "        self._password = password\n",
    "\n",
    "\n",
    "obj1 = User(\"mahdi\", \"passwr\")\n",
    "print(obj1.getUsername()) # >> mahdi\n",
    "\n",
    "# NOTE: user can still use your attributes directly\n",
    "print(obj1._username) # >> mahdi"
   ]
  },
  {
   "cell_type": "markdown",
   "source": [
    "## Second Solution (This is better) : Using properties\n",
    "you can use decorator <code>property</code> like this example:"
   ],
   "metadata": {
    "collapsed": false
   }
  },
  {
   "cell_type": "code",
   "execution_count": 55,
   "outputs": [],
   "source": [
    "class User:\n",
    "    def __init__(self, username: str, password: str):\n",
    "        self._username = username # making private variables\n",
    "        self._password = password\n",
    "\n",
    "    @property\n",
    "    def username(self): # The name of this method must be the attribute name without _\n",
    "        print('get username')\n",
    "        return self._username\n",
    "\n",
    "    @username.setter # The name of this decorator must be the attribute name with setter\n",
    "    def username(self, username): # The name of this method must be the attribute name without _\n",
    "        # validate new username\n",
    "        print('validating new username')\n",
    "        self._username = username\n",
    "\n",
    "    @property\n",
    "    def password(self): # The name of this method must be the attribute name without _\n",
    "        print('get password')\n",
    "        return self._password\n",
    "\n",
    "    @password.setter # The name of this decorator must be the attribute name with setter\n",
    "    def password(self, password): #\n",
    "        # validate new username\n",
    "        print('validating new password')\n",
    "        self._password = password"
   ],
   "metadata": {
    "collapsed": false,
    "ExecuteTime": {
     "end_time": "2024-07-27T13:12:01.147234100Z",
     "start_time": "2024-07-27T13:12:01.118699Z"
    }
   }
  },
  {
   "cell_type": "code",
   "execution_count": 56,
   "outputs": [
    {
     "name": "stdout",
     "output_type": "stream",
     "text": [
      "get username\n",
      "validating new username\n"
     ]
    }
   ],
   "source": [
    "obj1 = User('mahdi', 'password')\n",
    "\n",
    "obj1.username # >> get username\n",
    "              # >> 'mahdi'\n",
    "\n",
    "\n",
    "obj1.username = 'new username' # >> get username\n",
    "                               # >> validating new username"
   ],
   "metadata": {
    "collapsed": false,
    "ExecuteTime": {
     "end_time": "2024-07-27T13:12:01.202237900Z",
     "start_time": "2024-07-27T13:12:01.134237300Z"
    }
   }
  },
  {
   "cell_type": "markdown",
   "source": [],
   "metadata": {
    "collapsed": false
   }
  },
  {
   "cell_type": "code",
   "execution_count": null,
   "outputs": [],
   "source": [],
   "metadata": {
    "collapsed": false
   }
  }
 ],
 "metadata": {
  "kernelspec": {
   "display_name": "Python 3",
   "language": "python",
   "name": "python3"
  },
  "language_info": {
   "codemirror_mode": {
    "name": "ipython",
    "version": 2
   },
   "file_extension": ".py",
   "mimetype": "text/x-python",
   "name": "python",
   "nbconvert_exporter": "python",
   "pygments_lexer": "ipython2",
   "version": "2.7.6"
  }
 },
 "nbformat": 4,
 "nbformat_minor": 0
}
