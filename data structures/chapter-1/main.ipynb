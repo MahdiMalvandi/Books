{
 "cells": [
  {
   "cell_type": "markdown",
   "source": [
    "# What are data structures?\n",
    "Data structures are a way of organizing and storing information in a computer or a\n",
    "program. They help to efficiently manage and manipulate data.\n",
    "For example, if you want to find out whether a friend from school is on Facebook, you\n",
    "can. This is only possible because there is a data structure that organizes users in a way\n",
    "that makes it easy and fast to search among a billion users."
   ],
   "metadata": {
    "collapsed": false
   }
  },
  {
   "cell_type": "markdown",
   "source": [
    "# Why should I care about data structures?\n",
    "Data structures are the building blocks of computer science. They are important because\n",
    "they help organize data, solve difficult problems, improve efficiency, optimize memory\n",
    "usage, and avoid security risks."
   ],
   "metadata": {
    "collapsed": false
   }
  },
  {
   "cell_type": "markdown",
   "source": [
    "### When do I need data structures?\n",
    "In theory, you need data structures when you must organize\n",
    "your data in a way that makes it easy and efficient to store\n",
    "and retrieve it according to some special rules.\n",
    "\n",
    "<img src=\"images/PdfImage.png\">"
   ],
   "metadata": {
    "collapsed": false
   }
  },
  {
   "cell_type": "markdown",
   "source": [
    "### How should I choose a data structure?\n",
    "You don’t always have to choose the best possible one; most of the time, you\n",
    "can get away with a near-optimal alternative. But what’s fundamental is avoiding the\n",
    "wrong choice, which would be a data structure that would crash your application or\n",
    "cause a security problem.The ability to choose the right data\n",
    "structure is like a muscle that you need to train.\n"
   ],
   "metadata": {
    "collapsed": false
   }
  },
  {
   "cell_type": "code",
   "execution_count": null,
   "outputs": [],
   "source": [],
   "metadata": {
    "collapsed": false
   }
  }
 ],
 "metadata": {
  "kernelspec": {
   "display_name": "Python 3",
   "language": "python",
   "name": "python3"
  },
  "language_info": {
   "codemirror_mode": {
    "name": "ipython",
    "version": 2
   },
   "file_extension": ".py",
   "mimetype": "text/x-python",
   "name": "python",
   "nbconvert_exporter": "python",
   "pygments_lexer": "ipython2",
   "version": "2.7.6"
  }
 },
 "nbformat": 4,
 "nbformat_minor": 0
}
